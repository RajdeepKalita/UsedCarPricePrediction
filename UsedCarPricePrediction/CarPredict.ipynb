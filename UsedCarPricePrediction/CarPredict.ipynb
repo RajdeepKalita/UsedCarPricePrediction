{
 "cells": [
  {
   "cell_type": "code",
   "execution_count": 1,
   "metadata": {},
   "outputs": [],
   "source": [
    "import pandas as pd\n",
    "pd.options.mode.chained_assignment = None  # default='warn'\n",
    "import matplotlib.pyplot as plt\n",
    "from pandas import DataFrame as df\n",
    "import seaborn as sns\n",
    "import numpy as np"
   ]
  },
  {
   "cell_type": "code",
   "execution_count": 2,
   "metadata": {},
   "outputs": [
    {
     "data": {
      "text/html": [
       "<div>\n",
       "<style scoped>\n",
       "    .dataframe tbody tr th:only-of-type {\n",
       "        vertical-align: middle;\n",
       "    }\n",
       "\n",
       "    .dataframe tbody tr th {\n",
       "        vertical-align: top;\n",
       "    }\n",
       "\n",
       "    .dataframe thead th {\n",
       "        text-align: right;\n",
       "    }\n",
       "</style>\n",
       "<table border=\"1\" class=\"dataframe\">\n",
       "  <thead>\n",
       "    <tr style=\"text-align: right;\">\n",
       "      <th></th>\n",
       "      <th>Name</th>\n",
       "      <th>Location</th>\n",
       "      <th>Year</th>\n",
       "      <th>Kilometers_Driven</th>\n",
       "      <th>Fuel_Type</th>\n",
       "      <th>Transmission</th>\n",
       "      <th>Owner_Type</th>\n",
       "      <th>Mileage</th>\n",
       "      <th>Engine</th>\n",
       "      <th>Power</th>\n",
       "      <th>Seats</th>\n",
       "      <th>New_Price</th>\n",
       "      <th>Price</th>\n",
       "    </tr>\n",
       "  </thead>\n",
       "  <tbody>\n",
       "    <tr>\n",
       "      <th>0</th>\n",
       "      <td>Hyundai EON LPG Era Plus Option</td>\n",
       "      <td>Hyderabad</td>\n",
       "      <td>2012</td>\n",
       "      <td>75000</td>\n",
       "      <td>LPG</td>\n",
       "      <td>Manual</td>\n",
       "      <td>First</td>\n",
       "      <td>21.1 km/kg</td>\n",
       "      <td>814 CC</td>\n",
       "      <td>55.2 bhp</td>\n",
       "      <td>5.0</td>\n",
       "      <td>NaN</td>\n",
       "      <td>2.35</td>\n",
       "    </tr>\n",
       "    <tr>\n",
       "      <th>1</th>\n",
       "      <td>Maruti Omni E 8 Str STD</td>\n",
       "      <td>Hyderabad</td>\n",
       "      <td>2013</td>\n",
       "      <td>26875</td>\n",
       "      <td>Petrol</td>\n",
       "      <td>Manual</td>\n",
       "      <td>First</td>\n",
       "      <td>16.8 kmpl</td>\n",
       "      <td>796 CC</td>\n",
       "      <td>34.2 bhp</td>\n",
       "      <td>8.0</td>\n",
       "      <td>NaN</td>\n",
       "      <td>2.35</td>\n",
       "    </tr>\n",
       "    <tr>\n",
       "      <th>2</th>\n",
       "      <td>Volkswagen Polo Petrol Highline 1.2L</td>\n",
       "      <td>Kolkata</td>\n",
       "      <td>2011</td>\n",
       "      <td>50000</td>\n",
       "      <td>Petrol</td>\n",
       "      <td>Manual</td>\n",
       "      <td>First</td>\n",
       "      <td>16.47 kmpl</td>\n",
       "      <td>1198 CC</td>\n",
       "      <td>73.9 bhp</td>\n",
       "      <td>5.0</td>\n",
       "      <td>NaN</td>\n",
       "      <td>2.35</td>\n",
       "    </tr>\n",
       "    <tr>\n",
       "      <th>3</th>\n",
       "      <td>Maruti Alto 800 VXI</td>\n",
       "      <td>Kolkata</td>\n",
       "      <td>2015</td>\n",
       "      <td>11110</td>\n",
       "      <td>Petrol</td>\n",
       "      <td>Manual</td>\n",
       "      <td>First</td>\n",
       "      <td>22.74 kmpl</td>\n",
       "      <td>796 CC</td>\n",
       "      <td>47.3 bhp</td>\n",
       "      <td>5.0</td>\n",
       "      <td>NaN</td>\n",
       "      <td>2.35</td>\n",
       "    </tr>\n",
       "    <tr>\n",
       "      <th>4</th>\n",
       "      <td>Hyundai i10 Magna</td>\n",
       "      <td>Kolkata</td>\n",
       "      <td>2013</td>\n",
       "      <td>21000</td>\n",
       "      <td>Petrol</td>\n",
       "      <td>Manual</td>\n",
       "      <td>First</td>\n",
       "      <td>20.36 kmpl</td>\n",
       "      <td>1197 CC</td>\n",
       "      <td>78.9 bhp</td>\n",
       "      <td>5.0</td>\n",
       "      <td>NaN</td>\n",
       "      <td>2.35</td>\n",
       "    </tr>\n",
       "  </tbody>\n",
       "</table>\n",
       "</div>"
      ],
      "text/plain": [
       "                                   Name   Location  Year  Kilometers_Driven  \\\n",
       "0       Hyundai EON LPG Era Plus Option  Hyderabad  2012              75000   \n",
       "1               Maruti Omni E 8 Str STD  Hyderabad  2013              26875   \n",
       "2  Volkswagen Polo Petrol Highline 1.2L    Kolkata  2011              50000   \n",
       "3                   Maruti Alto 800 VXI    Kolkata  2015              11110   \n",
       "4                     Hyundai i10 Magna    Kolkata  2013              21000   \n",
       "\n",
       "  Fuel_Type Transmission Owner_Type     Mileage   Engine     Power  Seats  \\\n",
       "0       LPG       Manual      First  21.1 km/kg   814 CC  55.2 bhp    5.0   \n",
       "1    Petrol       Manual      First   16.8 kmpl   796 CC  34.2 bhp    8.0   \n",
       "2    Petrol       Manual      First  16.47 kmpl  1198 CC  73.9 bhp    5.0   \n",
       "3    Petrol       Manual      First  22.74 kmpl   796 CC  47.3 bhp    5.0   \n",
       "4    Petrol       Manual      First  20.36 kmpl  1197 CC  78.9 bhp    5.0   \n",
       "\n",
       "  New_Price  Price  \n",
       "0       NaN   2.35  \n",
       "1       NaN   2.35  \n",
       "2       NaN   2.35  \n",
       "3       NaN   2.35  \n",
       "4       NaN   2.35  "
      ]
     },
     "execution_count": 2,
     "metadata": {},
     "output_type": "execute_result"
    }
   ],
   "source": [
    "cars=pd.read_csv(\"train-data.csv\")\n",
    "cars.head()"
   ]
  },
  {
   "cell_type": "code",
   "execution_count": 3,
   "metadata": {},
   "outputs": [
    {
     "name": "stdout",
     "output_type": "stream",
     "text": [
      "<class 'pandas.core.frame.DataFrame'>\n",
      "RangeIndex: 2675 entries, 0 to 2674\n",
      "Data columns (total 13 columns):\n",
      " #   Column             Non-Null Count  Dtype  \n",
      "---  ------             --------------  -----  \n",
      " 0   Name               2675 non-null   object \n",
      " 1   Location           2675 non-null   object \n",
      " 2   Year               2675 non-null   int64  \n",
      " 3   Kilometers_Driven  2675 non-null   int64  \n",
      " 4   Fuel_Type          2675 non-null   object \n",
      " 5   Transmission       2675 non-null   object \n",
      " 6   Owner_Type         2675 non-null   object \n",
      " 7   Mileage            2675 non-null   object \n",
      " 8   Engine             2660 non-null   object \n",
      " 9   Power              2660 non-null   object \n",
      " 10  Seats              2658 non-null   float64\n",
      " 11  New_Price          280 non-null    object \n",
      " 12  Price              2675 non-null   float64\n",
      "dtypes: float64(2), int64(2), object(9)\n",
      "memory usage: 271.8+ KB\n"
     ]
    }
   ],
   "source": [
    "cars.info()"
   ]
  },
  {
   "cell_type": "code",
   "execution_count": 4,
   "metadata": {},
   "outputs": [],
   "source": [
    "cols=[col for col in cars.columns if(cars[col].isnull().sum()/cars.shape[0]*100<70 )]\n",
    "cars_trimmed=cars[cols]"
   ]
  },
  {
   "cell_type": "code",
   "execution_count": 5,
   "metadata": {},
   "outputs": [
    {
     "name": "stdout",
     "output_type": "stream",
     "text": [
      "<class 'pandas.core.frame.DataFrame'>\n",
      "RangeIndex: 2675 entries, 0 to 2674\n",
      "Data columns (total 12 columns):\n",
      " #   Column             Non-Null Count  Dtype  \n",
      "---  ------             --------------  -----  \n",
      " 0   Name               2675 non-null   object \n",
      " 1   Location           2675 non-null   object \n",
      " 2   Year               2675 non-null   int64  \n",
      " 3   Kilometers_Driven  2675 non-null   int64  \n",
      " 4   Fuel_Type          2675 non-null   object \n",
      " 5   Transmission       2675 non-null   object \n",
      " 6   Owner_Type         2675 non-null   object \n",
      " 7   Mileage            2675 non-null   object \n",
      " 8   Engine             2660 non-null   object \n",
      " 9   Power              2660 non-null   object \n",
      " 10  Seats              2658 non-null   float64\n",
      " 11  Price              2675 non-null   float64\n",
      "dtypes: float64(2), int64(2), object(8)\n",
      "memory usage: 250.9+ KB\n"
     ]
    }
   ],
   "source": [
    "cars_trimmed.info()"
   ]
  },
  {
   "cell_type": "code",
   "execution_count": 6,
   "metadata": {},
   "outputs": [
    {
     "data": {
      "text/plain": [
       "Name                 0\n",
       "Location             0\n",
       "Year                 0\n",
       "Kilometers_Driven    0\n",
       "Fuel_Type            0\n",
       "Transmission         0\n",
       "Owner_Type           0\n",
       "Mileage              0\n",
       "Engine               0\n",
       "Power                0\n",
       "Seats                0\n",
       "Price                0\n",
       "dtype: int64"
      ]
     },
     "execution_count": 6,
     "metadata": {},
     "output_type": "execute_result"
    }
   ],
   "source": [
    "cars_trimmed.fillna(method='ffill',inplace=True)\n",
    "cars_trimmed.isnull().sum()"
   ]
  },
  {
   "cell_type": "code",
   "execution_count": 7,
   "metadata": {},
   "outputs": [],
   "source": [
    "cars_trimmed['Mileage'] = pd.to_numeric(cars_trimmed['Mileage'].str.lower().str.split().str.get(0), errors='coerce')\n",
    "cars_trimmed['Engine'] = pd.to_numeric(cars_trimmed['Engine'].str.lower().str.split().str.get(0), errors='coerce')\n",
    "cars_trimmed['Power'] = pd.to_numeric(cars_trimmed['Power'].str.lower().str.split().str.get(0), errors='coerce')"
   ]
  },
  {
   "cell_type": "code",
   "execution_count": 8,
   "metadata": {},
   "outputs": [
    {
     "name": "stdout",
     "output_type": "stream",
     "text": [
      "<class 'pandas.core.frame.DataFrame'>\n",
      "RangeIndex: 2675 entries, 0 to 2674\n",
      "Data columns (total 12 columns):\n",
      " #   Column             Non-Null Count  Dtype  \n",
      "---  ------             --------------  -----  \n",
      " 0   Name               2675 non-null   object \n",
      " 1   Location           2675 non-null   object \n",
      " 2   Year               2675 non-null   int64  \n",
      " 3   Kilometers_Driven  2675 non-null   int64  \n",
      " 4   Fuel_Type          2675 non-null   object \n",
      " 5   Transmission       2675 non-null   object \n",
      " 6   Owner_Type         2675 non-null   object \n",
      " 7   Mileage            2675 non-null   float64\n",
      " 8   Engine             2675 non-null   int64  \n",
      " 9   Power              2635 non-null   float64\n",
      " 10  Seats              2675 non-null   float64\n",
      " 11  Price              2675 non-null   float64\n",
      "dtypes: float64(4), int64(3), object(5)\n",
      "memory usage: 250.9+ KB\n"
     ]
    }
   ],
   "source": [
    "cars_trimmed.info()"
   ]
  },
  {
   "cell_type": "code",
   "execution_count": 9,
   "metadata": {},
   "outputs": [],
   "source": [
    "cars_trimmed['Name']=cars_trimmed['Name'].str.split(' ').str.slice(0,3).str.join(' ')\n"
   ]
  },
  {
   "cell_type": "code",
   "execution_count": 10,
   "metadata": {},
   "outputs": [],
   "source": [
    "cars_trimmed = cars_trimmed.reset_index(drop=True)"
   ]
  },
  {
   "cell_type": "code",
   "execution_count": 11,
   "metadata": {},
   "outputs": [
    {
     "data": {
      "text/html": [
       "<div>\n",
       "<style scoped>\n",
       "    .dataframe tbody tr th:only-of-type {\n",
       "        vertical-align: middle;\n",
       "    }\n",
       "\n",
       "    .dataframe tbody tr th {\n",
       "        vertical-align: top;\n",
       "    }\n",
       "\n",
       "    .dataframe thead th {\n",
       "        text-align: right;\n",
       "    }\n",
       "</style>\n",
       "<table border=\"1\" class=\"dataframe\">\n",
       "  <thead>\n",
       "    <tr style=\"text-align: right;\">\n",
       "      <th></th>\n",
       "      <th>Name</th>\n",
       "      <th>Location</th>\n",
       "      <th>Year</th>\n",
       "      <th>Kilometers_Driven</th>\n",
       "      <th>Fuel_Type</th>\n",
       "      <th>Transmission</th>\n",
       "      <th>Owner_Type</th>\n",
       "      <th>Mileage</th>\n",
       "      <th>Engine</th>\n",
       "      <th>Seats</th>\n",
       "      <th>Price</th>\n",
       "    </tr>\n",
       "  </thead>\n",
       "  <tbody>\n",
       "    <tr>\n",
       "      <th>0</th>\n",
       "      <td>Hyundai EON LPG</td>\n",
       "      <td>Hyderabad</td>\n",
       "      <td>2012</td>\n",
       "      <td>75000</td>\n",
       "      <td>LPG</td>\n",
       "      <td>Manual</td>\n",
       "      <td>First</td>\n",
       "      <td>21.10</td>\n",
       "      <td>814</td>\n",
       "      <td>5.0</td>\n",
       "      <td>2.35</td>\n",
       "    </tr>\n",
       "    <tr>\n",
       "      <th>1</th>\n",
       "      <td>Maruti Omni E</td>\n",
       "      <td>Hyderabad</td>\n",
       "      <td>2013</td>\n",
       "      <td>26875</td>\n",
       "      <td>Petrol</td>\n",
       "      <td>Manual</td>\n",
       "      <td>First</td>\n",
       "      <td>16.80</td>\n",
       "      <td>796</td>\n",
       "      <td>8.0</td>\n",
       "      <td>2.35</td>\n",
       "    </tr>\n",
       "    <tr>\n",
       "      <th>2</th>\n",
       "      <td>Volkswagen Polo Petrol</td>\n",
       "      <td>Kolkata</td>\n",
       "      <td>2011</td>\n",
       "      <td>50000</td>\n",
       "      <td>Petrol</td>\n",
       "      <td>Manual</td>\n",
       "      <td>First</td>\n",
       "      <td>16.47</td>\n",
       "      <td>1198</td>\n",
       "      <td>5.0</td>\n",
       "      <td>2.35</td>\n",
       "    </tr>\n",
       "    <tr>\n",
       "      <th>3</th>\n",
       "      <td>Maruti Alto 800</td>\n",
       "      <td>Kolkata</td>\n",
       "      <td>2015</td>\n",
       "      <td>11110</td>\n",
       "      <td>Petrol</td>\n",
       "      <td>Manual</td>\n",
       "      <td>First</td>\n",
       "      <td>22.74</td>\n",
       "      <td>796</td>\n",
       "      <td>5.0</td>\n",
       "      <td>2.35</td>\n",
       "    </tr>\n",
       "    <tr>\n",
       "      <th>4</th>\n",
       "      <td>Hyundai i10 Magna</td>\n",
       "      <td>Kolkata</td>\n",
       "      <td>2013</td>\n",
       "      <td>21000</td>\n",
       "      <td>Petrol</td>\n",
       "      <td>Manual</td>\n",
       "      <td>First</td>\n",
       "      <td>20.36</td>\n",
       "      <td>1197</td>\n",
       "      <td>5.0</td>\n",
       "      <td>2.35</td>\n",
       "    </tr>\n",
       "    <tr>\n",
       "      <th>...</th>\n",
       "      <td>...</td>\n",
       "      <td>...</td>\n",
       "      <td>...</td>\n",
       "      <td>...</td>\n",
       "      <td>...</td>\n",
       "      <td>...</td>\n",
       "      <td>...</td>\n",
       "      <td>...</td>\n",
       "      <td>...</td>\n",
       "      <td>...</td>\n",
       "      <td>...</td>\n",
       "    </tr>\n",
       "    <tr>\n",
       "      <th>2670</th>\n",
       "      <td>Hyundai Verna 1.6</td>\n",
       "      <td>Pune</td>\n",
       "      <td>2012</td>\n",
       "      <td>89000</td>\n",
       "      <td>Diesel</td>\n",
       "      <td>Manual</td>\n",
       "      <td>First</td>\n",
       "      <td>22.32</td>\n",
       "      <td>1582</td>\n",
       "      <td>5.0</td>\n",
       "      <td>6.00</td>\n",
       "    </tr>\n",
       "    <tr>\n",
       "      <th>2671</th>\n",
       "      <td>Nissan Terrano XL</td>\n",
       "      <td>Jaipur</td>\n",
       "      <td>2014</td>\n",
       "      <td>60000</td>\n",
       "      <td>Diesel</td>\n",
       "      <td>Manual</td>\n",
       "      <td>First</td>\n",
       "      <td>20.45</td>\n",
       "      <td>1461</td>\n",
       "      <td>5.0</td>\n",
       "      <td>6.00</td>\n",
       "    </tr>\n",
       "    <tr>\n",
       "      <th>2672</th>\n",
       "      <td>Volkswagen Vento 1.5</td>\n",
       "      <td>Hyderabad</td>\n",
       "      <td>2015</td>\n",
       "      <td>85000</td>\n",
       "      <td>Diesel</td>\n",
       "      <td>Manual</td>\n",
       "      <td>First</td>\n",
       "      <td>20.34</td>\n",
       "      <td>1498</td>\n",
       "      <td>5.0</td>\n",
       "      <td>6.00</td>\n",
       "    </tr>\n",
       "    <tr>\n",
       "      <th>2673</th>\n",
       "      <td>Renault Duster 85PS</td>\n",
       "      <td>Hyderabad</td>\n",
       "      <td>2013</td>\n",
       "      <td>74911</td>\n",
       "      <td>Diesel</td>\n",
       "      <td>Manual</td>\n",
       "      <td>First</td>\n",
       "      <td>20.45</td>\n",
       "      <td>1461</td>\n",
       "      <td>5.0</td>\n",
       "      <td>6.00</td>\n",
       "    </tr>\n",
       "    <tr>\n",
       "      <th>2674</th>\n",
       "      <td>Ford EcoSport 1.0</td>\n",
       "      <td>Delhi</td>\n",
       "      <td>2015</td>\n",
       "      <td>64000</td>\n",
       "      <td>Petrol</td>\n",
       "      <td>Manual</td>\n",
       "      <td>First</td>\n",
       "      <td>18.88</td>\n",
       "      <td>999</td>\n",
       "      <td>5.0</td>\n",
       "      <td>6.00</td>\n",
       "    </tr>\n",
       "  </tbody>\n",
       "</table>\n",
       "<p>2675 rows × 11 columns</p>\n",
       "</div>"
      ],
      "text/plain": [
       "                        Name   Location  Year  Kilometers_Driven Fuel_Type  \\\n",
       "0            Hyundai EON LPG  Hyderabad  2012              75000       LPG   \n",
       "1              Maruti Omni E  Hyderabad  2013              26875    Petrol   \n",
       "2     Volkswagen Polo Petrol    Kolkata  2011              50000    Petrol   \n",
       "3            Maruti Alto 800    Kolkata  2015              11110    Petrol   \n",
       "4          Hyundai i10 Magna    Kolkata  2013              21000    Petrol   \n",
       "...                      ...        ...   ...                ...       ...   \n",
       "2670       Hyundai Verna 1.6       Pune  2012              89000    Diesel   \n",
       "2671       Nissan Terrano XL     Jaipur  2014              60000    Diesel   \n",
       "2672    Volkswagen Vento 1.5  Hyderabad  2015              85000    Diesel   \n",
       "2673     Renault Duster 85PS  Hyderabad  2013              74911    Diesel   \n",
       "2674       Ford EcoSport 1.0      Delhi  2015              64000    Petrol   \n",
       "\n",
       "     Transmission Owner_Type  Mileage  Engine  Seats  Price  \n",
       "0          Manual      First    21.10     814    5.0   2.35  \n",
       "1          Manual      First    16.80     796    8.0   2.35  \n",
       "2          Manual      First    16.47    1198    5.0   2.35  \n",
       "3          Manual      First    22.74     796    5.0   2.35  \n",
       "4          Manual      First    20.36    1197    5.0   2.35  \n",
       "...           ...        ...      ...     ...    ...    ...  \n",
       "2670       Manual      First    22.32    1582    5.0   6.00  \n",
       "2671       Manual      First    20.45    1461    5.0   6.00  \n",
       "2672       Manual      First    20.34    1498    5.0   6.00  \n",
       "2673       Manual      First    20.45    1461    5.0   6.00  \n",
       "2674       Manual      First    18.88     999    5.0   6.00  \n",
       "\n",
       "[2675 rows x 11 columns]"
      ]
     },
     "execution_count": 11,
     "metadata": {},
     "output_type": "execute_result"
    }
   ],
   "source": [
    "cars_trimmed=cars_trimmed.drop(columns='Power')\n",
    "cars_trimmed"
   ]
  },
  {
   "cell_type": "markdown",
   "metadata": {},
   "source": [
    "# Data Visualisation of the Various Features with labels"
   ]
  },
  {
   "cell_type": "code",
   "execution_count": 12,
   "metadata": {},
   "outputs": [
    {
     "data": {
      "text/plain": [
       "array([[<AxesSubplot:title={'center':'Year'}>,\n",
       "        <AxesSubplot:title={'center':'Kilometers_Driven'}>],\n",
       "       [<AxesSubplot:title={'center':'Mileage'}>,\n",
       "        <AxesSubplot:title={'center':'Engine'}>],\n",
       "       [<AxesSubplot:title={'center':'Seats'}>,\n",
       "        <AxesSubplot:title={'center':'Price'}>]], dtype=object)"
      ]
     },
     "execution_count": 12,
     "metadata": {},
     "output_type": "execute_result"
    },
    {
     "data": {
      "image/png": "[encoded data removed]",
      "text/plain": [
       "<Figure size 1440x1080 with 6 Axes>"
      ]
     },
     "metadata": {
      "needs_background": "light"
     },
     "output_type": "display_data"
    }
   ],
   "source": [
    "cars_trimmed.hist(bins=50,figsize=(20,15))"
   ]
  },
  {
   "cell_type": "code",
   "execution_count": 13,
   "metadata": {},
   "outputs": [
    {
     "data": {
      "text/plain": [
       "<AxesSubplot:title={'center':'Cars sold per company'}, xlabel='Company Name', ylabel='No. of cars sold'>"
      ]
     },
     "execution_count": 13,
     "metadata": {},
     "output_type": "execute_result"
    },
    {
     "data": {
      "image/png": "[encoded data removed]",
      "text/plain": [
       "<Figure size 864x864 with 1 Axes>"
      ]
     },
     "metadata": {
      "needs_background": "light"
     },
     "output_type": "display_data"
    }
   ],
   "source": [
    "company_count=cars_trimmed['Name'].str.lower().str.split().str.get(0).to_frame()[\"Name\"].value_counts()\n",
    "plt.figure(figsize=(12,12))\n",
    "plt.xlabel('Company Name')\n",
    "plt.ylabel('No. of cars sold')\n",
    "plt.title('Cars sold per company')\n",
    "company_count.plot(kind='bar')"
   ]
  },
  {
   "cell_type": "code",
   "execution_count": 14,
   "metadata": {},
   "outputs": [
    {
     "data": {
      "text/plain": [
       "<AxesSubplot:title={'center':'Mileage v/s Fuel Type'}, xlabel='Fuel_Type', ylabel='Average Mileage'>"
      ]
     },
     "execution_count": 14,
     "metadata": {},
     "output_type": "execute_result"
    },
    {
     "data": {
      "image/png": "[encoded data removed]",
      "text/plain": [
       "<Figure size 432x288 with 1 Axes>"
      ]
     },
     "metadata": {
      "needs_background": "light"
     },
     "output_type": "display_data"
    }
   ],
   "source": [
    "mileage = cars_trimmed.groupby('Fuel_Type').Mileage.mean()\n",
    "plt.xlabel('Fuel Type')\n",
    "plt.ylabel('Average Mileage')\n",
    "plt.title('Mileage v/s Fuel Type')\n",
    "mileage.plot(kind='bar')"
   ]
  },
  {
   "cell_type": "code",
   "execution_count": 15,
   "metadata": {},
   "outputs": [],
   "source": [
    "comp = cars_trimmed['Name'].str.split().str.get(0)\n",
    "\n",
    "cars_trimmed.insert(0, \"Company\", comp, True)\n"
   ]
  },
  {
   "cell_type": "code",
   "execution_count": 16,
   "metadata": {},
   "outputs": [
    {
     "data": {
      "text/plain": [
       "<AxesSubplot:title={'center':'Mileage v/s Company'}, xlabel='Company', ylabel='Average Mileage'>"
      ]
     },
     "execution_count": 16,
     "metadata": {},
     "output_type": "execute_result"
    },
    {
     "data": {
      "image/png": "[encoded data removed]",
      "text/plain": [
       "<Figure size 432x288 with 1 Axes>"
      ]
     },
     "metadata": {
      "needs_background": "light"
     },
     "output_type": "display_data"
    }
   ],
   "source": [
    "mileage_by_company = cars_trimmed.groupby('Company').Mileage.mean()\n",
    "plt.xlabel('Company')\n",
    "plt.ylabel('Average Mileage')\n",
    "plt.title('Mileage v/s Company')\n",
    "mileage_by_company.plot(kind='bar')"
   ]
  },
  {
   "cell_type": "code",
   "execution_count": 17,
   "metadata": {},
   "outputs": [
    {
     "name": "stdout",
     "output_type": "stream",
     "text": [
      "Company\n",
      "Chevrolet        3.444839\n",
      "Datsun           3.115833\n",
      "Fiat             3.661333\n",
      "Ford             4.034485\n",
      "Honda            4.259319\n",
      "Hyundai          4.162468\n",
      "Mahindra         4.388267\n",
      "Maruti           3.990965\n",
      "Mercedes-Benz    5.010000\n",
      "Mitsubishi       4.046667\n",
      "Nissan           4.117742\n",
      "Renault          4.329000\n",
      "Skoda            4.354324\n",
      "Smart            3.000000\n",
      "Tata             3.778614\n",
      "Toyota           4.200000\n",
      "Volkswagen       4.312522\n",
      "Name: Price, dtype: float64\n"
     ]
    }
   ],
   "source": [
    "p = cars_trimmed.groupby('Company').Price.mean()\n",
    "print(p)"
   ]
  },
  {
   "cell_type": "code",
   "execution_count": 18,
   "metadata": {},
   "outputs": [
    {
     "data": {
      "text/plain": [
       "<AxesSubplot:title={'center':'Mileage v/s Company'}, xlabel='Company', ylabel='Price'>"
      ]
     },
     "execution_count": 18,
     "metadata": {},
     "output_type": "execute_result"
    },
    {
     "data": {
      "image/png": "[encoded data removed]",
      "text/plain": [
       "<Figure size 432x288 with 1 Axes>"
      ]
     },
     "metadata": {
      "needs_background": "light"
     },
     "output_type": "display_data"
    }
   ],
   "source": [
    "plt.xlabel('Company')\n",
    "plt.ylabel('Price')\n",
    "plt.title('Mileage v/s Company')\n",
    "mileage_by_company.plot(kind='bar')"
   ]
  },
  {
   "cell_type": "markdown",
   "metadata": {},
   "source": [
    "# Finding the Correlation"
   ]
  },
  {
   "cell_type": "code",
   "execution_count": 19,
   "metadata": {},
   "outputs": [
    {
     "data": {
      "text/html": [
       "<div>\n",
       "<style scoped>\n",
       "    .dataframe tbody tr th:only-of-type {\n",
       "        vertical-align: middle;\n",
       "    }\n",
       "\n",
       "    .dataframe tbody tr th {\n",
       "        vertical-align: top;\n",
       "    }\n",
       "\n",
       "    .dataframe thead th {\n",
       "        text-align: right;\n",
       "    }\n",
       "</style>\n",
       "<table border=\"1\" class=\"dataframe\">\n",
       "  <thead>\n",
       "    <tr style=\"text-align: right;\">\n",
       "      <th></th>\n",
       "      <th>Year</th>\n",
       "      <th>Kilometers_Driven</th>\n",
       "      <th>Mileage</th>\n",
       "      <th>Engine</th>\n",
       "      <th>Seats</th>\n",
       "      <th>Price</th>\n",
       "    </tr>\n",
       "  </thead>\n",
       "  <tbody>\n",
       "    <tr>\n",
       "      <th>Year</th>\n",
       "      <td>1.000000</td>\n",
       "      <td>-0.411373</td>\n",
       "      <td>0.479479</td>\n",
       "      <td>-0.536069</td>\n",
       "      <td>-0.205029</td>\n",
       "      <td>0.357629</td>\n",
       "    </tr>\n",
       "    <tr>\n",
       "      <th>Kilometers_Driven</th>\n",
       "      <td>-0.411373</td>\n",
       "      <td>1.000000</td>\n",
       "      <td>-0.124728</td>\n",
       "      <td>0.372266</td>\n",
       "      <td>0.207614</td>\n",
       "      <td>-0.072513</td>\n",
       "    </tr>\n",
       "    <tr>\n",
       "      <th>Mileage</th>\n",
       "      <td>0.479479</td>\n",
       "      <td>-0.124728</td>\n",
       "      <td>1.000000</td>\n",
       "      <td>-0.526820</td>\n",
       "      <td>-0.302353</td>\n",
       "      <td>0.025541</td>\n",
       "    </tr>\n",
       "    <tr>\n",
       "      <th>Engine</th>\n",
       "      <td>-0.536069</td>\n",
       "      <td>0.372266</td>\n",
       "      <td>-0.526820</td>\n",
       "      <td>1.000000</td>\n",
       "      <td>0.466313</td>\n",
       "      <td>0.209778</td>\n",
       "    </tr>\n",
       "    <tr>\n",
       "      <th>Seats</th>\n",
       "      <td>-0.205029</td>\n",
       "      <td>0.207614</td>\n",
       "      <td>-0.302353</td>\n",
       "      <td>0.466313</td>\n",
       "      <td>1.000000</td>\n",
       "      <td>0.092891</td>\n",
       "    </tr>\n",
       "    <tr>\n",
       "      <th>Price</th>\n",
       "      <td>0.357629</td>\n",
       "      <td>-0.072513</td>\n",
       "      <td>0.025541</td>\n",
       "      <td>0.209778</td>\n",
       "      <td>0.092891</td>\n",
       "      <td>1.000000</td>\n",
       "    </tr>\n",
       "  </tbody>\n",
       "</table>\n",
       "</div>"
      ],
      "text/plain": [
       "                       Year  Kilometers_Driven   Mileage    Engine     Seats  \\\n",
       "Year               1.000000          -0.411373  0.479479 -0.536069 -0.205029   \n",
       "Kilometers_Driven -0.411373           1.000000 -0.124728  0.372266  0.207614   \n",
       "Mileage            0.479479          -0.124728  1.000000 -0.526820 -0.302353   \n",
       "Engine            -0.536069           0.372266 -0.526820  1.000000  0.466313   \n",
       "Seats             -0.205029           0.207614 -0.302353  0.466313  1.000000   \n",
       "Price              0.357629          -0.072513  0.025541  0.209778  0.092891   \n",
       "\n",
       "                      Price  \n",
       "Year               0.357629  \n",
       "Kilometers_Driven -0.072513  \n",
       "Mileage            0.025541  \n",
       "Engine             0.209778  \n",
       "Seats              0.092891  \n",
       "Price              1.000000  "
      ]
     },
     "execution_count": 19,
     "metadata": {},
     "output_type": "execute_result"
    }
   ],
   "source": [
    "feat_analysis=cars_trimmed.drop(['Name', 'Company', 'Location', 'Fuel_Type', 'Transmission', 'Owner_Type'], axis = 1)\n",
    "feat_analysis.corr()"
   ]
  },
  {
   "cell_type": "code",
   "execution_count": 20,
   "metadata": {},
   "outputs": [
    {
     "data": {
      "image/png": "[encoded data removed]",
      "text/plain": [
       "<Figure size 576x576 with 2 Axes>"
      ]
     },
     "metadata": {
      "needs_background": "light"
     },
     "output_type": "display_data"
    }
   ],
   "source": [
    "\n",
    "plt.figure(figsize=(8,8))\n",
    "plt.title('Feature Correlation Map')\n",
    "corrMatrix = feat_analysis.corr()\n",
    "sns.heatmap(corrMatrix, annot=True)\n",
    "plt.show()"
   ]
  },
  {
   "cell_type": "code",
   "execution_count": 21,
   "metadata": {},
   "outputs": [],
   "source": [
    "X=cars_trimmed.drop(columns='Price')\n",
    "y=cars_trimmed['Price']"
   ]
  },
  {
   "cell_type": "markdown",
   "metadata": {},
   "source": [
    "# Building the Model"
   ]
  },
  {
   "cell_type": "code",
   "execution_count": 22,
   "metadata": {},
   "outputs": [],
   "source": [
    "from sklearn.model_selection import train_test_split\n",
    "X_train,X_test,y_train,y_test=train_test_split(X,y,test_size=0.2)\n",
    "from sklearn.linear_model import LinearRegression\n",
    "\n",
    "from sklearn.metrics import r2_score\n",
    "\n",
    "from sklearn.preprocessing import OneHotEncoder\n",
    "from sklearn.compose import make_column_transformer\n",
    "from sklearn.pipeline import make_pipeline\n",
    "ohe=OneHotEncoder()\n",
    "\n",
    "\n"
   ]
  },
  {
   "cell_type": "code",
   "execution_count": 23,
   "metadata": {},
   "outputs": [
    {
     "data": {
      "text/plain": [
       "OneHotEncoder()"
      ]
     },
     "execution_count": 23,
     "metadata": {},
     "output_type": "execute_result"
    }
   ],
   "source": [
    "ohe.fit(X[['Name','Company','Location','Fuel_Type','Transmission','Owner_Type']])\n"
   ]
  },
  {
   "cell_type": "code",
   "execution_count": 24,
   "metadata": {},
   "outputs": [],
   "source": [
    "column_trans=make_column_transformer((OneHotEncoder(categories=ohe.categories_),['Name','Company','Location','Fuel_Type','Transmission','Owner_Type']),remainder='passthrough')\n",
    "lr=LinearRegression()\n",
    "#lr=DecisionTreeRegressor()\n",
    "#lr=RandomForestRegressor()\n",
    "pipe=make_pipeline(column_trans,lr)"
   ]
  },
  {
   "cell_type": "code",
   "execution_count": 26,
   "metadata": {},
   "outputs": [],
   "source": [
    "pipe.fit(X_train,y_train)\n",
    "Y_pred=pipe.predict(X_test)"
   ]
  },
  {
   "cell_type": "code",
   "execution_count": 27,
   "metadata": {},
   "outputs": [
    {
     "data": {
      "text/plain": [
       "0.7028865959062855"
      ]
     },
     "execution_count": 27,
     "metadata": {},
     "output_type": "execute_result"
    }
   ],
   "source": [
    "r2_score(y_test,Y_pred)"
   ]
  },
  {
   "cell_type": "markdown",
   "metadata": {},
   "source": [
    "# Choosing the Best Random State"
   ]
  },
  {
   "cell_type": "code",
   "execution_count": 28,
   "metadata": {},
   "outputs": [],
   "source": [
    "scores=[]\n",
    "for i in range(1000):\n",
    "    X_train,X_test,y_train,y_test=train_test_split(X,y,test_size=0.2,random_state=i)\n",
    "    lr=LinearRegression()\n",
    "    pipe=make_pipeline(column_trans,lr)\n",
    "    pipe.fit(X_train,y_train)\n",
    "    Y_pred=pipe.predict(X_test)\n",
    "    scores.append(r2_score(y_test,Y_pred))\n",
    "    \n"
   ]
  },
  {
   "cell_type": "code",
   "execution_count": null,
   "metadata": {},
   "outputs": [],
   "source": [
    "scores[np.argmax(scores)]"
   ]
  },
  {
   "cell_type": "markdown",
   "metadata": {},
   "source": [
    "# Using the best found random state for model building"
   ]
  },
  {
   "cell_type": "code",
   "execution_count": null,
   "metadata": {},
   "outputs": [],
   "source": [
    "X_train,X_test,y_train,y_test=train_test_split(X,y,test_size=0.2,random_state=np.argmax(scores))\n",
    "lr=LinearRegression()\n",
    "pipe=make_pipeline(column_trans,lr)\n",
    "pipe.fit(X_train,y_train)\n",
    "Y_pred=pip.predict(X_test)\n",
    "r2_score(y_test,Y_pred)"
   ]
  },
  {
   "cell_type": "markdown",
   "metadata": {},
   "source": [
    "# Predicting the Output of our model"
   ]
  },
  {
   "cell_type": "code",
   "execution_count": null,
   "metadata": {},
   "outputs": [],
   "source": [
    "pipe.predict(pd.DataFrame([['Maruti','Maruti Alto 800', 'Kolkata', '2015','11110','Petrol','Manual','First','22.74','796','5']],columns=['Company','Name','Location','Year','Kilometers_Driven','Fuel_Type','Transmission','Owner_Type','Mileage','Engine','Seats']))\n",
    "#pipe.predict(pd.DataFrame([['Hyundai','Hyundai i10 Magna','Kolkata','2013','21000','Petrol','Manual','First','20.36','1197','5']],columns=['Company','Name','Location','Year','Kilometers_Driven','Fuel_Type','Transmission','Owner_Type','Mileage','Engine','Seats']))"
   ]
  },
  {
   "cell_type": "code",
   "execution_count": null,
   "metadata": {},
   "outputs": [],
   "source": []
  }
 ],
 "metadata": {
  "kernelspec": {
   "display_name": "Python 3",
   "language": "python",
   "name": "python3"
  },
  "language_info": {
   "codemirror_mode": {
    "name": "ipython",
    "version": 3
   },
   "file_extension": ".py",
   "mimetype": "text/x-python",
   "name": "python",
   "nbconvert_exporter": "python",
   "pygments_lexer": "ipython3",
   "version": "3.8.5"
  }
 },
 "nbformat": 4,
 "nbformat_minor": 4
}
